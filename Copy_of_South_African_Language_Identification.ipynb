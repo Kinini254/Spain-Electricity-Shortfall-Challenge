{
  "nbformat": 4,
  "nbformat_minor": 0,
  "metadata": {
    "colab": {
      "name": "Copy of South-African-Language-Identification.ipynb",
      "provenance": [],
      "collapsed_sections": [],
      "authorship_tag": "ABX9TyOBwhJCLYY0OlvA+bnEnWu1",
      "include_colab_link": true
    },
    "kernelspec": {
      "name": "python3",
      "display_name": "Python 3"
    },
    "language_info": {
      "name": "python"
    }
  },
  "cells": [
    {
      "cell_type": "markdown",
      "metadata": {
        "id": "view-in-github",
        "colab_type": "text"
      },
      "source": [
        "<a href=\"https://colab.research.google.com/github/Kinini254/Spain-Electricity-Shortfall-Challenge/blob/master/Copy_of_South_African_Language_Identification.ipynb\" target=\"_parent\"><img src=\"https://colab.research.google.com/assets/colab-badge.svg\" alt=\"Open In Colab\"/></a>"
      ]
    },
    {
      "cell_type": "markdown",
      "source": [
        "## **South-African-Language-Identification Kaggle Competition**\n",
        "\n",
        "By Abigael Kinini"
      ],
      "metadata": {
        "id": "5LewaPW1zKxI"
      }
    },
    {
      "cell_type": "markdown",
      "source": [
        "# Importing Libraries "
      ],
      "metadata": {
        "id": "rsg9LL8xzc1g"
      }
    },
    {
      "cell_type": "code",
      "source": [
        "# Libraries for data loading, data manipulation and data visulisation\n",
        "import pandas as pd\n",
        "import numpy as np\n",
        "import matplotlib.pyplot as plt\n",
        "%matplotlib inline\n",
        "import seaborn as sns\n",
        "import plotly.express as px\n",
        "import re\n",
        "import wordcloud\n",
        "from collections import Counter\n",
        "from wordcloud import WordCloud\n",
        "from wordcloud import  WordCloud, STOPWORDS, ImageColorGenerator\n",
        "from PIL import Image\n",
        "\n",
        "# Libraries for data preparation and model building\n",
        "import nltk\n",
        "from nltk.corpus import stopwords\n",
        "nltk.download('stopwords')\n",
        "from nltk.tokenize import word_tokenize \n",
        "nltk.download('punkt')\n",
        "from string import punctuation\n",
        "\n",
        "# Libraries from Sklearn\n",
        "from sklearn.model_selection import GridSearchCV\n",
        "from sklearn import svm\n",
        "from sklearn.naive_bayes import MultinomialNB\n",
        "from sklearn.linear_model import LogisticRegression\n",
        "from sklearn.model_selection import train_test_split\n",
        "from sklearn.feature_extraction.text import TfidfVectorizer\n",
        "from sklearn.metrics import confusion_matrix, classification_report\n",
        "\n",
        "\n",
        "from matplotlib.colors import ListedColormap\n",
        "\n",
        "from sklearn.feature_extraction.text import CountVectorizer\n",
        "\n",
        "from sklearn.model_selection import cross_val_score\n",
        "from sklearn.model_selection import train_test_split\n",
        "from sklearn import metrics\n",
        "from sklearn.metrics import accuracy_score\n",
        "\n",
        "from sklearn.preprocessing import StandardScaler\n",
        "from sklearn.datasets import make_moons, make_circles, make_classification\n",
        "\n",
        "from sklearn.linear_model import LogisticRegression\n",
        "from sklearn.neighbors import KNeighborsClassifier\n",
        "from sklearn.svm import SVC\n",
        "from sklearn.discriminant_analysis import LinearDiscriminantAnalysis\n",
        "from sklearn.discriminant_analysis import QuadraticDiscriminantAnalysis\n",
        "from sklearn.tree import DecisionTreeClassifier\n",
        "from sklearn.ensemble import RandomForestClassifier, AdaBoostClassifier\n",
        "\n",
        "\n",
        "\n",
        "import warnings\n",
        "warnings.filterwarnings('ignore')\n",
        "\n",
        "# Setting global constants to ensure notebook results are reproducible\n",
        "#PARAMETER_CONSTANT = ###"
      ],
      "metadata": {
        "colab": {
          "base_uri": "https://localhost:8080/"
        },
        "id": "EKl8y47O1x34",
        "outputId": "ee2a60eb-bab1-4c30-9722-8ead4cc8ff4c"
      },
      "execution_count": null,
      "outputs": [
        {
          "output_type": "stream",
          "name": "stderr",
          "text": [
            "[nltk_data] Downloading package stopwords to /root/nltk_data...\n",
            "[nltk_data]   Package stopwords is already up-to-date!\n",
            "[nltk_data] Downloading package punkt to /root/nltk_data...\n",
            "[nltk_data]   Package punkt is already up-to-date!\n"
          ]
        }
      ]
    },
    {
      "cell_type": "markdown",
      "source": [
        "# **Loading the data**"
      ],
      "metadata": {
        "id": "-aNNumlvbIKX"
      }
    },
    {
      "cell_type": "code",
      "source": [
        "train_data = pd.read_csv('/train_set.csv') #train data\n",
        "test_data = pd.read_csv('/test_set.csv')  # test data"
      ],
      "metadata": {
        "id": "pkTqQegFbTUF"
      },
      "execution_count": null,
      "outputs": []
    },
    {
      "cell_type": "markdown",
      "source": [
        "Percentage distribution of data"
      ],
      "metadata": {
        "id": "2uuVLdw8rfzf"
      }
    },
    {
      "cell_type": "code",
      "source": [
        "## Check the Percentage of the distribution in our data \n",
        "print(\"we have the percentage for categorical columns as: \")\n",
        "d = train_data['lang_id'].value_counts(normalize = True) * 100 # series\n",
        "print(d)\n",
        "\n",
        "## plot for analysis\n",
        "labels = train_data['lang_id'].unique()\n",
        "plt.bar(x = d.index, height = d.values, label = d.index, color= ['green','blue','pink','purple'])\n",
        "plt.xlabel(\"Lan_Id\")\n",
        "\n",
        "plt.ylabel(\"Percentage\")\n",
        "plt.title(\"Percentage of most lan_id mention\")\n",
        "plt.show()"
      ],
      "metadata": {
        "colab": {
          "base_uri": "https://localhost:8080/",
          "height": 522
        },
        "id": "D8GWl8R9rZXq",
        "outputId": "80be5905-9fa4-43bd-9c5c-67edb131fa34"
      },
      "execution_count": null,
      "outputs": [
        {
          "output_type": "stream",
          "name": "stdout",
          "text": [
            "we have the percentage for categorical columns as: \n",
            "xho    9.090909\n",
            "eng    9.090909\n",
            "nso    9.090909\n",
            "ven    9.090909\n",
            "tsn    9.090909\n",
            "nbl    9.090909\n",
            "zul    9.090909\n",
            "ssw    9.090909\n",
            "tso    9.090909\n",
            "sot    9.090909\n",
            "afr    9.090909\n",
            "Name: lang_id, dtype: float64\n"
          ]
        },
        {
          "output_type": "display_data",
          "data": {
            "text/plain": [
              "<Figure size 432x288 with 1 Axes>"
            ],
            "image/png": "[encoded data removed]"
          },
          "metadata": {
            "needs_background": "light"
          }
        }
      ]
    },
    {
      "cell_type": "markdown",
      "source": [
        "# Using a WordCloud to visulaize mentions/count of languages"
      ],
      "metadata": {
        "id": "c0CuSi2PsYMu"
      }
    },
    {
      "cell_type": "code",
      "source": [
        "def plot_wordcloud(message, mask=None, max_words=200, max_font_size=100, figure_size=(8,8), color = 'white',\n",
        "                   title = None, title_size=40, image_color=False):\n",
        "    stopwords = set(STOPWORDS)\n",
        "    more_stopwords = {'u', \"im\"}\n",
        "    stopwords = stopwords.union(more_stopwords)\n",
        "\n",
        "    wordcloud = WordCloud(background_color=color,\n",
        "                    stopwords = stopwords,\n",
        "                    max_words = max_words,\n",
        "                    max_font_size = max_font_size, \n",
        "                    random_state = 42,\n",
        "                    width=400, \n",
        "                    height=200,\n",
        "                    mask = mask)\n",
        "    wordcloud.generate(str(message))\n",
        "    \n",
        "    plt.figure(figsize=figure_size)\n",
        "    if image_color:\n",
        "        image_colors = ImageColorGenerator(mask);\n",
        "        plt.imshow(wordcloud.recolor(color_func=image_colors), interpolation=\"bilinear\");\n",
        "        plt.title(title, fontdict={'size': title_size,  \n",
        "                                  'verticalalignment': 'bottom'})\n",
        "    else:\n",
        "        plt.imshow(wordcloud);\n",
        "        plt.title(title, fontdict={'size': title_size, 'color': 'black', \n",
        "                                  'verticalalignment': 'bottom'})\n",
        "    plt.axis('off');\n",
        "    plt.tight_layout()  \n",
        "d = '/kaggle/input/masks-for-wordclouds/'"
      ],
      "metadata": {
        "id": "AhUaKE5esoL7"
      },
      "execution_count": null,
      "outputs": []
    },
    {
      "cell_type": "code",
      "source": [
        "plot_wordcloud(train_data.lang_id,color='black',max_font_size=50,\n",
        "               title_size=15,title=\"WordCloud of Language ID\")"
      ],
      "metadata": {
        "colab": {
          "base_uri": "https://localhost:8080/",
          "height": 329
        },
        "id": "4hZ_Z_z0s_6m",
        "outputId": "d3f10d55-4142-4bd1-ee49-59ec22cf7e7f"
      },
      "execution_count": null,
      "outputs": [
        {
          "output_type": "display_data",
          "data": {
            "text/plain": [
              "<Figure size 576x576 with 1 Axes>"
            ],
            "image/png": "[encoded data removed]"
          },
          "metadata": {
            "needs_background": "light"
          }
        }
      ]
    },
    {
      "cell_type": "markdown",
      "source": [
        "# **Data Processing**"
      ],
      "metadata": {
        "id": "k_etVpIOtHES"
      }
    },
    {
      "cell_type": "code",
      "source": [
        "print(\"DATA CLEANING -- \\n\")\n",
        "# emojis defined\n",
        "emoji_pattern = re.compile(\"[\"\n",
        "         u\"\\U0001F300-\\U0001F5FF\"  # symbols & pictographs\n",
        "         u\"\\U0001F680-\\U0001F6FF\"  # transport & map symbols\n",
        "         u\"\\U0001F1E0-\\U0001F1FF\"  # flags (iOS)\n",
        "         u\"\\U00002702-\\U000027B0\"\n",
        "         u\"\\U000024C2-\\U0001F251\"\n",
        "         \"]+\", flags=re.UNICODE)\n",
        "\n",
        "def replace_emojis(t):\n",
        "  '''\n",
        "  This function replaces happy unicode emojis with \"happy\" and sad unicode emojis with \"sad.\n",
        "  '''\n",
        "  emoji_happy = [\"\\U0001F600\", \"\\U0001F601\", \"\\U0001F602\",\"\\U0001F603\",\"\\U0001F604\",\"\\U0001F605\", \"\\U0001F606\", \"\\U0001F607\", \"\\U0001F609\", \n",
        "                \"\\U0001F60A\", \"\\U0001F642\",\"\\U0001F643\",\"\\U0001F923\",r\"\\U0001F970\",\"\\U0001F60D\", r\"\\U0001F929\",\"\\U0001F618\",\"\\U0001F617\",\n",
        "                r\"\\U000263A\", \"\\U0001F61A\", \"\\U0001F619\", r\"\\U0001F972\", \"\\U0001F60B\", \"\\U0001F61B\", \"\\U0001F61C\", r\"\\U0001F92A\",\n",
        "                \"\\U0001F61D\", \"\\U0001F911\", \"\\U0001F917\", r\"\\U0001F92D\", r\"\\U0001F92B\",\"\\U0001F914\",\"\\U0001F910\", r\"\\U0001F928\", \"\\U0001F610\", \"\\U0001F611\",\n",
        "                \"\\U0001F636\", \"\\U0001F60F\",\"\\U0001F612\", \"\\U0001F644\",\"\\U0001F62C\",\"\\U0001F925\",\"\\U0001F60C\",\"\\U0001F614\",\"\\U0001F62A\",\n",
        "                \"\\U0001F924\",\"\\U0001F634\", \"\\U0001F920\", r\"\\U0001F973\", r\"\\U0001F978\",\"\\U0001F60E\",\"\\U0001F913\", r\"\\U0001F9D0\"]\n",
        "\n",
        "  emoji_sad = [\"\\U0001F637\",\"\\U0001F912\",\"\\U0001F915\",\"\\U0001F922\", r\"\\U0001F92E\",\"\\U0001F927\", r\"\\U0001F975\", r\"\\U0001F976\", r\"\\U0001F974\",\n",
        "                       \"\\U0001F635\", r\"\\U0001F92F\", \"\\U0001F615\",\"\\U0001F61F\",\"\\U0001F641\", r\"\\U0002639\",\"\\U0001F62E\",\"\\U0001F62F\",\"\\U0001F632\",\n",
        "                       \"\\U0001F633\", r\"\\U0001F97A\",\"\\U0001F626\",\"\\U0001F627\",\"\\U0001F628\",\"\\U0001F630\",\"\\U0001F625\",\"\\U0001F622\",\"\\U0001F62D\",\n",
        "                       \"\\U0001F631\",\"\\U0001F616\",\"\\U0001F623\"\t,\"\\U0001F61E\",\"\\U0001F613\",\"\\U0001F629\",\"\\U0001F62B\", r\"\\U0001F971\",\n",
        "                       \"\\U0001F624\",\"\\U0001F621\",\"\\U0001F620\", r\"\\U0001F92C\",\"\\U0001F608\",\"\\U0001F47F\",\"\\U0001F480\", r\"\\U0002620\"]\n",
        "\n",
        "  words = t.split()\n",
        "  reformed = []\n",
        "  for w in words:\n",
        "    if w in emoji_happy:\n",
        "      reformed.append(\"happy\")\n",
        "    elif w in emoji_sad:\n",
        "      reformed.append(\"sad\") \n",
        "    else:\n",
        "      reformed.append(w)\n",
        "  t = \" \".join(reformed)\n",
        "  return t\n",
        "\n",
        "\n",
        "def replace_smileys(t):\n",
        "  '''\n",
        "  This function replaces happy smileys with \"happy\" and sad smileys with \"sad.\n",
        "  '''\n",
        "  emoticons_happy = set([':-)', ':)', ';)', ':o)', ':]', ':3', ':c)', ':>', '=]', '8)', '=)', ':}', ':D',\n",
        "    ':^)', ':-D', ':D', '8-D', '8D', 'x-D', 'xD', 'X-D', 'XD', '=-D', '=D',\n",
        "    '=-3', '=3', ':-))', \":'-)\", \":')\", ':*', ':^*', '>:P', ':-P', ':P', 'X-P',\n",
        "    'x-p', 'xp', 'XP', ':-p', ':p', '=p', ':-b', ':b', '>:)', '>;)', '>:-)', '<3'])\n",
        "\n",
        "  emoticons_sad = set([':L', ':-/', '>:/', ':S', '>:[', ':@', ':-(', ':[', ':-||', '=L', ':<',\n",
        "    ':-[', ':-<', '=\\\\', '=/', '>:(', ':(', '>.<', \":'-(\", \":'(\", ':\\\\', ':-c',\n",
        "    ':c', ':{', '>:\\\\', ';('])  \n",
        "\n",
        "  words = t.split()\n",
        "  reformed = []\n",
        "  for w in words:\n",
        "    if w in emoticons_happy:\n",
        "      reformed.append(\"happy\")\n",
        "    elif w in emoticons_sad:\n",
        "      reformed.append(\"sad\") \n",
        "    else:\n",
        "      reformed.append(w)\n",
        "  t = \" \".join(reformed)\n",
        "  return t\n",
        "\n",
        "def replace_contractions(t):\n",
        "  '''\n",
        "  This function replaces english lanuage contractions like \"shouldn't\" with \"should not\"\n",
        "  '''\n",
        "  cont = {\"aren't\" : 'are not', \"can't\" : 'cannot', \"couln't\": 'could not', \"didn't\": 'did not', \"doesn't\" : 'does not',\n",
        "  \"hadn't\": 'had not', \"haven't\": 'have not', \"he's\" : 'he is', \"she's\" : 'she is', \"he'll\" : \"he will\", \n",
        "  \"she'll\" : 'she will',\"he'd\": \"he would\", \"she'd\":\"she would\", \"here's\" : \"here is\", \n",
        "   \"i'm\" : 'i am', \"i've\"\t: \"i have\", \"i'll\" : \"i will\", \"i'd\" : \"i would\", \"isn't\": \"is not\", \n",
        "   \"it's\" : \"it is\", \"it'll\": \"it will\", \"mustn't\" : \"must not\", \"shouldn't\" : \"should not\", \"that's\" : \"that is\", \n",
        "   \"there's\" : \"there is\", \"they're\" : \"they are\", \"they've\" : \"they have\", \"they'll\" : \"they will\",\n",
        "   \"they'd\" : \"they would\", \"wasn't\" : \"was not\", \"we're\": \"we are\", \"we've\":\"we have\", \"we'll\": \"we will\", \n",
        "   \"we'd\" : \"we would\", \"weren't\" : \"were not\", \"what's\" : \"what is\", \"where's\" : \"where is\", \"who's\": \"who is\",\n",
        "   \"who'll\" :\"who will\", \"won't\":\"will not\", \"wouldn't\" : \"would not\", \"you're\": \"you are\", \"you've\":\"you have\",\n",
        "   \"you'll\" : \"you will\", \"you'd\" : \"you would\", \"mayn't\" : \"may not\"}\n",
        "  words = t.split()\n",
        "  reformed = []\n",
        "  for w in words:\n",
        "    if w in cont:\n",
        "      reformed.append(cont[w])\n",
        "    else:\n",
        "      reformed.append(w)\n",
        "  t = \" \".join(reformed)\n",
        "  return t  \n",
        "\n",
        "def remove_single_letter_words(t):\n",
        "  '''\n",
        "  This function removes words that are single characters\n",
        "  '''\n",
        "  words = t.split()\n",
        "  reformed = []\n",
        "  for w in words:\n",
        "    if len(w) > 1:\n",
        "      reformed.append(w)\n",
        "  t = \" \".join(reformed)\n",
        "  return t  \n",
        "\n",
        "print(\"Cleaning the tweets from the data.\\n\")\n",
        "print(\"Replacing handwritten emojis with their feeling associated.\")\n",
        "print(\"Convert to lowercase.\")\n",
        "print(\"Replace contractions.\")\n",
        "print(\"Replace unicode emojis with their feeling associated.\")\n",
        "print(\"Remove all other unicoded emojis.\")\n",
        "print(\"Remove NON- ASCII characters.\")\n",
        "print(\"Remove numbers.\")\n",
        "print(\"Remove \\\"#\\\". \")\n",
        "print(\"Remove \\\"@\\\". \")\n",
        "print(\"Remove usernames.\")\n",
        "print(\"Remove \\'RT\\'. \")\n",
        "print(\"Replace all URLs and Links with word \\'URL\\'.\")\n",
        "print(\"Remove all punctuations.\")\n",
        "print(\"Removes single letter words.\\n\")\n",
        "\n",
        "def dataclean(t):\n",
        "  '''\n",
        "  This function cleans the tweets.\n",
        "  '''\n",
        "  t = replace_smileys(t) # replace handwritten emojis with their feeling associated\n",
        "  t = t.lower() # convert to lowercase\n",
        "  t = replace_contractions(t) # replace short forms used in english  with their actual words\n",
        "  t = replace_emojis(t) # replace unicode emojis with their feeling associated\n",
        "  t = emoji_pattern.sub(r'', t) # remove emojis other than smiley emojis\n",
        "  t = re.sub('\\\\\\\\u[0-9A-Fa-f]{4}','', t) # remove NON- ASCII characters\n",
        "  t = re.sub(\"[0-9]\", \"\", t) # remove numbers # re.sub(\"\\d+\", \"\", t)\n",
        "  t = re.sub('#', '', t) # remove '#'\n",
        "  t = re.sub('@[A-Za-z0–9]+', '', t) # remove '@'\n",
        "  t = re.sub('@[^\\s]+', '', t) # remove usernames\n",
        "  t = re.sub('rt[\\s]+', '', t) # remove retweet 'RT'\n",
        "  t = re.sub('((www\\.[^\\s]+)|(https?://[^\\s]+))', '', t) # remove links (URLs/ links)\n",
        "  t = re.sub('[!\"$%&\\'()*+,-./:@;<=>?[\\\\]^_`{|}~]', '', t) # remove punctuations\n",
        "  t = t.replace('\\\\\\\\', '')\n",
        "  t = t.replace('\\\\', '')\n",
        "  t = remove_single_letter_words(t) # removes single letter words\n",
        "  return t\n",
        "\n",
        "train_data['cleaned_texts'] = train_data['text'].apply(dataclean)\n",
        "print(\"Texts have been cleaned.\")"
      ],
      "metadata": {
        "colab": {
          "base_uri": "https://localhost:8080/"
        },
        "id": "2KvnMVx-tL7L",
        "outputId": "a90454ff-7bd2-4a6c-c637-0b91a136b1dd"
      },
      "execution_count": null,
      "outputs": [
        {
          "output_type": "stream",
          "name": "stdout",
          "text": [
            "DATA CLEANING -- \n",
            "\n",
            "Cleaning the tweets from the data.\n",
            "\n",
            "Replacing handwritten emojis with their feeling associated.\n",
            "Convert to lowercase.\n",
            "Replace contractions.\n",
            "Replace unicode emojis with their feeling associated.\n",
            "Remove all other unicoded emojis.\n",
            "Remove NON- ASCII characters.\n",
            "Remove numbers.\n",
            "Remove \"#\". \n",
            "Remove \"@\". \n",
            "Remove usernames.\n",
            "Remove 'RT'. \n",
            "Replace all URLs and Links with word 'URL'.\n",
            "Remove all punctuations.\n",
            "Removes single letter words.\n",
            "\n",
            "Texts have been cleaned.\n"
          ]
        }
      ]
    },
    {
      "cell_type": "code",
      "source": [
        "train_data.head()"
      ],
      "metadata": {
        "colab": {
          "base_uri": "https://localhost:8080/",
          "height": 267
        },
        "id": "3PeYEDbntS_f",
        "outputId": "a84582c3-4eec-440d-c1a0-e29ffc63e299"
      },
      "execution_count": null,
      "outputs": [
        {
          "output_type": "execute_result",
          "data": {
            "text/plain": [
              "  lang_id                                               text  \\\n",
              "0     xho  umgaqo-siseko wenza amalungiselelo kumaziko ax...   \n",
              "1     xho  i-dha iya kuba nobulumko bokubeka umsebenzi na...   \n",
              "2     eng  the province of kwazulu-natal department of tr...   \n",
              "3     nso  o netefatša gore o ba file dilo ka moka tše le...   \n",
              "4     ven  khomishini ya ndinganyiso ya mbeu yo ewa maana...   \n",
              "\n",
              "                                       cleaned_texts  \n",
              "0  umgaqosiseko wenza amalungiselelo kumaziko axh...  \n",
              "1  idha iya kuba nobulumko bokubeka umsebenzi nap...  \n",
              "2  the province of kwazulunatal department of tra...  \n",
              "3  netefatša gore ba file dilo ka moka tše le dum...  \n",
              "4  khomishini ya ndinganyiso ya mbeu yo ewa maana...  "
            ],
            "text/html": [
              "\n",
              "  <div id=\"df-79dcebd3-8000-48e4-aaaa-d28d5f6601b2\">\n",
              "    <div class=\"colab-df-container\">\n",
              "      <div>\n",
              "<style scoped>\n",
              "    .dataframe tbody tr th:only-of-type {\n",
              "        vertical-align: middle;\n",
              "    }\n",
              "\n",
              "    .dataframe tbody tr th {\n",
              "        vertical-align: top;\n",
              "    }\n",
              "\n",
              "    .dataframe thead th {\n",
              "        text-align: right;\n",
              "    }\n",
              "</style>\n",
              "<table border=\"1\" class=\"dataframe\">\n",
              "  <thead>\n",
              "    <tr style=\"text-align: right;\">\n",
              "      <th></th>\n",
              "      <th>lang_id</th>\n",
              "      <th>text</th>\n",
              "      <th>cleaned_texts</th>\n",
              "    </tr>\n",
              "  </thead>\n",
              "  <tbody>\n",
              "    <tr>\n",
              "      <th>0</th>\n",
              "      <td>xho</td>\n",
              "      <td>umgaqo-siseko wenza amalungiselelo kumaziko ax...</td>\n",
              "      <td>umgaqosiseko wenza amalungiselelo kumaziko axh...</td>\n",
              "    </tr>\n",
              "    <tr>\n",
              "      <th>1</th>\n",
              "      <td>xho</td>\n",
              "      <td>i-dha iya kuba nobulumko bokubeka umsebenzi na...</td>\n",
              "      <td>idha iya kuba nobulumko bokubeka umsebenzi nap...</td>\n",
              "    </tr>\n",
              "    <tr>\n",
              "      <th>2</th>\n",
              "      <td>eng</td>\n",
              "      <td>the province of kwazulu-natal department of tr...</td>\n",
              "      <td>the province of kwazulunatal department of tra...</td>\n",
              "    </tr>\n",
              "    <tr>\n",
              "      <th>3</th>\n",
              "      <td>nso</td>\n",
              "      <td>o netefatša gore o ba file dilo ka moka tše le...</td>\n",
              "      <td>netefatša gore ba file dilo ka moka tše le dum...</td>\n",
              "    </tr>\n",
              "    <tr>\n",
              "      <th>4</th>\n",
              "      <td>ven</td>\n",
              "      <td>khomishini ya ndinganyiso ya mbeu yo ewa maana...</td>\n",
              "      <td>khomishini ya ndinganyiso ya mbeu yo ewa maana...</td>\n",
              "    </tr>\n",
              "  </tbody>\n",
              "</table>\n",
              "</div>\n",
              "      <button class=\"colab-df-convert\" onclick=\"convertToInteractive('df-79dcebd3-8000-48e4-aaaa-d28d5f6601b2')\"\n",
              "              title=\"Convert this dataframe to an interactive table.\"\n",
              "              style=\"display:none;\">\n",
              "        \n",
              "  <svg xmlns=\"http://www.w3.org/2000/svg\" height=\"24px\"viewBox=\"0 0 24 24\"\n",
              "       width=\"24px\">\n",
              "    <path d=\"M0 0h24v24H0V0z\" fill=\"none\"/>\n",
              "    <path d=\"M18.56 5.44l.94 2.06.94-2.06 2.06-.94-2.06-.94-.94-2.06-.94 2.06-2.06.94zm-11 1L8.5 8.5l.94-2.06 2.06-.94-2.06-.94L8.5 2.5l-.94 2.06-2.06.94zm10 10l.94 2.06.94-2.06 2.06-.94-2.06-.94-.94-2.06-.94 2.06-2.06.94z\"/><path d=\"M17.41 7.96l-1.37-1.37c-.4-.4-.92-.59-1.43-.59-.52 0-1.04.2-1.43.59L10.3 9.45l-7.72 7.72c-.78.78-.78 2.05 0 2.83L4 21.41c.39.39.9.59 1.41.59.51 0 1.02-.2 1.41-.59l7.78-7.78 2.81-2.81c.8-.78.8-2.07 0-2.86zM5.41 20L4 18.59l7.72-7.72 1.47 1.35L5.41 20z\"/>\n",
              "  </svg>\n",
              "      </button>\n",
              "      \n",
              "  <style>\n",
              "    .colab-df-container {\n",
              "      display:flex;\n",
              "      flex-wrap:wrap;\n",
              "      gap: 12px;\n",
              "    }\n",
              "\n",
              "    .colab-df-convert {\n",
              "      background-color: #E8F0FE;\n",
              "      border: none;\n",
              "      border-radius: 50%;\n",
              "      cursor: pointer;\n",
              "      display: none;\n",
              "      fill: #1967D2;\n",
              "      height: 32px;\n",
              "      padding: 0 0 0 0;\n",
              "      width: 32px;\n",
              "    }\n",
              "\n",
              "    .colab-df-convert:hover {\n",
              "      background-color: #E2EBFA;\n",
              "      box-shadow: 0px 1px 2px rgba(60, 64, 67, 0.3), 0px 1px 3px 1px rgba(60, 64, 67, 0.15);\n",
              "      fill: #174EA6;\n",
              "    }\n",
              "\n",
              "    [theme=dark] .colab-df-convert {\n",
              "      background-color: #3B4455;\n",
              "      fill: #D2E3FC;\n",
              "    }\n",
              "\n",
              "    [theme=dark] .colab-df-convert:hover {\n",
              "      background-color: #434B5C;\n",
              "      box-shadow: 0px 1px 3px 1px rgba(0, 0, 0, 0.15);\n",
              "      filter: drop-shadow(0px 1px 2px rgba(0, 0, 0, 0.3));\n",
              "      fill: #FFFFFF;\n",
              "    }\n",
              "  </style>\n",
              "\n",
              "      <script>\n",
              "        const buttonEl =\n",
              "          document.querySelector('#df-79dcebd3-8000-48e4-aaaa-d28d5f6601b2 button.colab-df-convert');\n",
              "        buttonEl.style.display =\n",
              "          google.colab.kernel.accessAllowed ? 'block' : 'none';\n",
              "\n",
              "        async function convertToInteractive(key) {\n",
              "          const element = document.querySelector('#df-79dcebd3-8000-48e4-aaaa-d28d5f6601b2');\n",
              "          const dataTable =\n",
              "            await google.colab.kernel.invokeFunction('convertToInteractive',\n",
              "                                                     [key], {});\n",
              "          if (!dataTable) return;\n",
              "\n",
              "          const docLinkHtml = 'Like what you see? Visit the ' +\n",
              "            '<a target=\"_blank\" href=https://colab.research.google.com/notebooks/data_table.ipynb>data table notebook</a>'\n",
              "            + ' to learn more about interactive tables.';\n",
              "          element.innerHTML = '';\n",
              "          dataTable['output_type'] = 'display_data';\n",
              "          await google.colab.output.renderOutput(dataTable, element);\n",
              "          const docLink = document.createElement('div');\n",
              "          docLink.innerHTML = docLinkHtml;\n",
              "          element.appendChild(docLink);\n",
              "        }\n",
              "      </script>\n",
              "    </div>\n",
              "  </div>\n",
              "  "
            ]
          },
          "metadata": {},
          "execution_count": 10
        }
      ]
    },
    {
      "cell_type": "markdown",
      "source": [
        "With the texts column clean in our new dataframe, we still need to carry out further preprocessing like removing of stop words, lemmatization etc"
      ],
      "metadata": {
        "id": "4zCYVahrtZs4"
      }
    },
    {
      "cell_type": "code",
      "source": [
        "def freq_words(tokens):\n",
        "  '''See frequency distribution of words'''\n",
        "  from nltk.probability import FreqDist\n",
        "  \n",
        "  fdist = FreqDist(tokens)\n",
        "  print(fdist) # total 508935 values and 56653 unique values\n",
        "    \n",
        "  # top 20 most common words\n",
        "  print(\"Top 10 most common words in the data. \\n\")\n",
        "  df = pd.DataFrame(fdist.most_common(20), columns=['Tokens', 'Frequency'])\n",
        "  print(df)\n",
        "\n",
        "  # plot of top 20 most common words\n",
        "  fdist.plot(20, cumulative = False)\n",
        "  plt.show()\n",
        "\n",
        "\n",
        "def word_cloud(tokens):\n",
        "  '''A word cloud (also known as text clouds or tag clouds) is a visualization, \n",
        "  the more a specific word appears in the text, the bigger and bolder it appears in the word cloud.\n",
        "  '''\n",
        "  from wordcloud import WordCloud\n",
        "  w = ' '.join([i for i in tokens])\n",
        "  wc = WordCloud(width = 1000, height = 700, random_state=21, max_font_size=110).generate(w)\n",
        "  plt.imshow(wc, interpolation = \"bilinear\")\n",
        "  plt.axis('off')\n",
        "  plt.show()\n",
        "\n",
        "\n",
        "def preprocess(t):\n",
        "  # downloading necessary packages\n",
        "  from nltk.tokenize import word_tokenize\n",
        "  from nltk.corpus import stopwords\n",
        "  stop_words = set(stopwords.words('english'))\n",
        "   \n",
        "  from nltk.stem.wordnet import WordNetLemmatizer\n",
        "  lem = WordNetLemmatizer()\n",
        "  \n",
        "  # tokenization\n",
        "  tw = []  \n",
        "  tw = word_tokenize(t)  \n",
        "  \n",
        "  # remove the stopwords\n",
        "  fs = [] # filtered list after removing stop words\n",
        "  fs = ([i for i in tw if i not in stop_words])\n",
        "  \n",
        "  # lemmatization  \n",
        "  ns = []\n",
        "  for i in fs:\n",
        "    ns.append(lem.lemmatize(i, 'v'))\n",
        "  ns = ' '.join(ns)\n",
        "  return ns  \n",
        "\n",
        "\n",
        "print(\"Pre - processing the texts.\\n\")\n",
        "print(\"Downloading necessary packages for preprocessing.\")\n",
        "## for tokenization\n",
        "if (nltk.download(\"punkt\")):\n",
        "  print(\"\\\"punkt\\\" is downloaded.\")\n",
        "## for stopwords\n",
        "if (nltk.download('stopwords')):\n",
        "  print(\"\\\"Stopwords\\\" are downloaded.\")\n",
        "## for lemmatization\n",
        "if (nltk.download('wordnet')):\n",
        "  print(\"Algorithm for lemmatization is downloaded.\")  \n",
        "print(\"-\" * 50)\n",
        "print(\"\\nSteps involved are : \")\n",
        "print(\"\\nStep 1 - \\\"Tokenization\\\". \")\n",
        "print(\"Importing the necessary functions required for tokenization.\")\n",
        "\n",
        "print(\"Necessary functions are downloaded.\")\n",
        "print(\"\\nStep 2 - \\\"Removing the stopwprds\\\". \")\n",
        "print(\"Importing the necessary functions required for removing stopwords.\")\n",
        "print(\"Necessary functions are downloaded.\")\n",
        "print(\"Stop words in ENGLISH language are : \")\n",
        "\n",
        "print(\"\\nStep 3 - \\\"Lemmatization\\\". \")\n",
        "print(\"Importing the necessary functions required for lemmatization.\")\n",
        "print(\"Necessary functions are downloaded.\")\n",
        "print(\"Loading the algorithm for Lemmatization.\")\n",
        "print(\"Algorithm for lemmatization is loaded.\\n\")\n",
        "  \n",
        "pp_list = []\n",
        "for text in train_data['text']:\n",
        "  pp_list.append(preprocess(text))\n",
        "print(\"After preprocessing.\", pp_list[:5])\n",
        "\n",
        "# for graphical display of preprocessed data\n",
        "\n",
        "tokens = []\n",
        "for i in pp_list:\n",
        "  tokens.extend(word_tokenize(i))\n",
        "print(\"Top 20 words used in the texts are : \\n\", tokens[:20])\n",
        "print(\"\\nFrequency distribution of top 20 words in the texts.\\n\")\n",
        "freq_words(tokens)\n",
        "print(\"\\nWord Cloud for the pre- processed data.\")\n",
        "word_cloud(tokens)"
      ],
      "metadata": {
        "colab": {
          "base_uri": "https://localhost:8080/",
          "height": 1000
        },
        "id": "t2Pn86kg-Uov",
        "outputId": "bb80587d-e7c0-4c01-b042-43250d1a0cb3"
      },
      "execution_count": null,
      "outputs": [
        {
          "output_type": "stream",
          "name": "stdout",
          "text": [
            "Pre - processing the texts.\n",
            "\n",
            "Downloading necessary packages for preprocessing.\n",
            "\"punkt\" is downloaded.\n",
            "\"Stopwords\" are downloaded.\n",
            "Algorithm for lemmatization is downloaded.\n",
            "--------------------------------------------------\n",
            "\n",
            "Steps involved are : \n",
            "\n",
            "Step 1 - \"Tokenization\". \n",
            "Importing the necessary functions required for tokenization.\n",
            "Necessary functions are downloaded.\n",
            "\n",
            "Step 2 - \"Removing the stopwprds\". \n",
            "Importing the necessary functions required for removing stopwords.\n",
            "Necessary functions are downloaded.\n",
            "Stop words in ENGLISH language are : \n",
            "\n",
            "Step 3 - \"Lemmatization\". \n",
            "Importing the necessary functions required for lemmatization.\n",
            "Necessary functions are downloaded.\n",
            "Loading the algorithm for Lemmatization.\n",
            "Algorithm for lemmatization is loaded.\n",
            "\n"
          ]
        },
        {
          "output_type": "stream",
          "name": "stderr",
          "text": [
            "[nltk_data] Downloading package punkt to /root/nltk_data...\n",
            "[nltk_data]   Package punkt is already up-to-date!\n",
            "[nltk_data] Downloading package stopwords to /root/nltk_data...\n",
            "[nltk_data]   Package stopwords is already up-to-date!\n",
            "[nltk_data] Downloading package wordnet to /root/nltk_data...\n",
            "[nltk_data]   Package wordnet is already up-to-date!\n"
          ]
        },
        {
          "output_type": "stream",
          "name": "stdout",
          "text": [
            "After preprocessing. ['umgaqo-siseko wenza amalungiselelo kumaziko axhasa ulawulo lwesininzi kunye nokuthath inxaxheba kwabafazi ezi ziquka phakathi kwezinye zazo ikomishoni yokulingana ngokwesini ikomishoni yamalungelo oluntu lomzantsi afrika', 'i-dha iya kuba nobulumko bokubeka umsebenzi naphi na kwisebe ngokusekwe kwiimfuno zokusebenza zalo emva kokubonana nomsebenzi kunye okanye imanyano yakhe ukuba ulandulo lomntu onjalo alufanelekanga i-dha mayibize uncedo olufanelekileyo elungelweni layo', 'province kwazulu-natal department transport invite tender establish contractors experience bridge construction construction kwajolwayo tugela river pedestrian bridge near tugela ferry duration project months', 'netefatša gore ba file dilo ka moka tše le dumelelanego ka tšona mohlala maleri magolo šomišwago go fihlelela meagong e metelele scaffold bolokegilego lefelo la maleba la go šomela go phela gabotse bjbj', 'khomishini ya ndinganyiso ya mbeu yo ewa maana u ya nga mulayo wa khomishini ya ndinganyiso ya mbeu u thetshelesa mbilaelo dzine dza tshimbilelana na tshialula u ya nga mbeu nahone ivhea sa foramu ya thungo u ya nga mulayo wa ndinganyiso']\n",
            "Top 20 words used in the texts are : \n",
            " ['umgaqo-siseko', 'wenza', 'amalungiselelo', 'kumaziko', 'axhasa', 'ulawulo', 'lwesininzi', 'kunye', 'nokuthath', 'inxaxheba', 'kwabafazi', 'ezi', 'ziquka', 'phakathi', 'kwezinye', 'zazo', 'ikomishoni', 'yokulingana', 'ngokwesini', 'ikomishoni']\n",
            "\n",
            "Frequency distribution of top 20 words in the texts.\n",
            "\n",
            "<FreqDist with 143294 samples and 1126772 outcomes>\n",
            "Top 10 most common words in the data. \n",
            "\n",
            "   Tokens  Frequency\n",
            "0      ya      28237\n",
            "1      le      21050\n",
            "2      ka      17960\n",
            "3      go      17200\n",
            "4       e      15620\n",
            "5      na      11172\n",
            "6       u      10151\n",
            "7     die      10064\n",
            "8      wa      10021\n",
            "9      ba       8839\n",
            "10     ho       8397\n",
            "11     ku       8155\n",
            "12    nga       6855\n",
            "13     di       5430\n",
            "14     ke       5423\n",
            "15     sa       4957\n",
            "16     ha       4839\n",
            "17    tsa       4824\n",
            "18     se       4740\n",
            "19    van       4720\n"
          ]
        },
        {
          "output_type": "display_data",
          "data": {
            "text/plain": [
              "<Figure size 432x288 with 1 Axes>"
            ],
            "image/png": "[encoded data removed]"
          },
          "metadata": {
            "needs_background": "light"
          }
        },
        {
          "output_type": "stream",
          "name": "stdout",
          "text": [
            "\n",
            "Word Cloud for the pre- processed data.\n"
          ]
        },
        {
          "output_type": "display_data",
          "data": {
            "text/plain": [
              "<Figure size 432x288 with 1 Axes>"
            ],
            "image/png": "[encoded data removed]"
          },
          "metadata": {
            "needs_background": "light"
          }
        }
      ]
    },
    {
      "cell_type": "markdown",
      "source": [
        "After Carrying out preprocessing, we can see the most occuring words and their size based on how many times they occur"
      ],
      "metadata": {
        "id": "k3H-TGp9ym-D"
      }
    },
    {
      "cell_type": "markdown",
      "source": [
        "# **Model Training**"
      ],
      "metadata": {
        "id": "QyPplsCLyqN1"
      }
    },
    {
      "cell_type": "code",
      "source": [
        "# Dividing Data to Training and Validation Sets\n",
        "from sklearn.model_selection import train_test_split  \n",
        "x = pp_list\n",
        "y = train_data['lang_id'].values\n",
        "x_train, x_val, y_train, y_val = train_test_split(x, y, test_size=0.3, random_state = 20) #using a 30% test size\n",
        "print(\"Number of data points in training data :\\n\")\n",
        "print(\"X = \", len(x_train))\n",
        "print(\"Y = \", len(y_train))\n",
        "\n",
        "print(\"\\nNumber of data points in validation data :\\n\")\n",
        "print(\"X = \", len(x_val))\n",
        "print(\"Y = \", len(y_val))"
      ],
      "metadata": {
        "colab": {
          "base_uri": "https://localhost:8080/"
        },
        "id": "IMWKR4R7ypn-",
        "outputId": "6491b746-3ceb-4eaa-9238-36eb4ff39f72"
      },
      "execution_count": null,
      "outputs": [
        {
          "output_type": "stream",
          "name": "stdout",
          "text": [
            "Number of data points in training data :\n",
            "\n",
            "X =  23100\n",
            "Y =  23100\n",
            "\n",
            "Number of data points in validation data :\n",
            "\n",
            "X =  9900\n",
            "Y =  9900\n"
          ]
        }
      ]
    },
    {
      "cell_type": "markdown",
      "source": [
        "Now we will use a Vectorizer to transform our texts into vetcors(numbers) that our machine can understand and work with"
      ],
      "metadata": {
        "id": "LeQqD_4c0T1H"
      }
    },
    {
      "cell_type": "markdown",
      "source": [
        "## **TFidVectorizer**"
      ],
      "metadata": {
        "id": "NP9x6Nvu0aJG"
      }
    },
    {
      "cell_type": "code",
      "source": [
        "print(\"Now convert these pre processed text to numeric format to send it to the model.\")\n",
        "print(\"Using TF-IDF approach to covert text to numbers.\\n\")\n",
        "\n",
        "vectorizer = TfidfVectorizer() #instantiating the vectorizer\n",
        "train_vectors = vectorizer.fit_transform(x_train)\n",
        "\n",
        "val_vectors = vectorizer.transform(x_val)\n",
        "print(\"Shape of training data : \",train_vectors.shape, \"\\nShape of validation data : \",val_vectors.shape)\n"
      ],
      "metadata": {
        "colab": {
          "base_uri": "https://localhost:8080/"
        },
        "id": "UbgB-IhJ0d8f",
        "outputId": "46437f28-33d8-4bd0-b237-46c2eb274e6d"
      },
      "execution_count": null,
      "outputs": [
        {
          "output_type": "stream",
          "name": "stdout",
          "text": [
            "Now convert these pre processed text to numeric format to send it to the model.\n",
            "Using TF-IDF approach to covert text to numbers.\n",
            "\n",
            "Shape of training data :  (23100, 114524) \n",
            "Shape of validation data :  (9900, 114524)\n"
          ]
        }
      ]
    },
    {
      "cell_type": "markdown",
      "source": [
        "# **Test of multiple Models**"
      ],
      "metadata": {
        "id": "rNVPUoeN0ocA"
      }
    },
    {
      "cell_type": "code",
      "source": [
        "names = ['Logistic Regression', 'Nearest Neighbors',\n",
        "         'Linear SVM', 'RBF SVM',\n",
        "         'Decision Tree', 'Random Forest',  'AdaBoost', \"Naive Bayes\"]"
      ],
      "metadata": {
        "id": "kysr6ndKL6MA"
      },
      "execution_count": null,
      "outputs": []
    },
    {
      "cell_type": "code",
      "source": [
        "classifiers = [\n",
        "    LogisticRegression(),\n",
        "    KNeighborsClassifier(3),\n",
        "    SVC(kernel=\"linear\", C=0.025),\n",
        "    SVC(gamma=2, C=1),\n",
        "    DecisionTreeClassifier(max_depth=5),\n",
        "    RandomForestClassifier(max_depth=5, n_estimators=10, max_features=1),\n",
        "    AdaBoostClassifier(),\n",
        "    MultinomialNB(alpha=0.05)\n",
        "]\n",
        "\n",
        "\n",
        "# Dividing Data to Training and Validation Sets\n",
        "from sklearn.model_selection import train_test_split  \n",
        "x = pp_list\n",
        "y = train_data['lang_id'].values\n",
        "X_train, X_test, y_train, y_test = train_test_split(x, y, test_size=0.2, random_state = 1)\n",
        "print(\"Number of data points in training data :\\n\")\n",
        "print(\"X = \", len(X_train))\n",
        "print(\"Y = \", len(y_train))\n",
        "\n",
        "print(\"\\nNumber of data points in test data :\\n\")\n",
        "print(\"X = \", len(X_test))\n",
        "print(\"Y = \", len(y_test))"
      ],
      "metadata": {
        "colab": {
          "base_uri": "https://localhost:8080/"
        },
        "id": "Ac9FG-93L6hn",
        "outputId": "3f891fe0-82fb-45ce-e1c2-125b7956823b"
      },
      "execution_count": null,
      "outputs": [
        {
          "output_type": "stream",
          "name": "stdout",
          "text": [
            "Number of data points in training data :\n",
            "\n",
            "X =  26400\n",
            "Y =  26400\n",
            "\n",
            "Number of data points in test data :\n",
            "\n",
            "X =  6600\n",
            "Y =  6600\n"
          ]
        }
      ]
    },
    {
      "cell_type": "code",
      "source": [
        "vect = CountVectorizer(stop_words='english', min_df= .01)\n",
        "X_train = vect.fit_transform(X_train)\n",
        "X_test = vect.transform(X_test)\n",
        "\n",
        "\n",
        "results = []\n",
        "\n",
        "models = {}\n",
        "confusion = {}\n",
        "class_report = {}\n",
        "\n",
        "\n",
        "for name, clf in zip(names, classifiers):\n",
        "    print ('Fitting {:s} model...'.format(name))\n",
        "    run_time = %timeit -q -o clf.fit(X_train, y_train)\n",
        "\n",
        "    print ('... predicting')\n",
        "    y_pred = clf.predict(X_train)\n",
        "    y_pred_test = clf.predict(X_test)\n",
        "\n",
        "    print ('... scoring')\n",
        "    accuracy  = metrics.accuracy_score(y_train, y_pred)\n",
        "    precision = metrics.precision_score(y_train, y_pred, average= None)\n",
        "    recall    = metrics.recall_score(y_train, y_pred, average=None)\n",
        "\n",
        "    f1        = metrics.f1_score(y_train, y_pred, average=None)\n",
        "    f1_test   = metrics.f1_score(y_test, y_pred_test, average=None)\n",
        "\n",
        "    # Save the results to dictionaries\n",
        "    models[name] = clf\n",
        "    confusion[name] = metrics.confusion_matrix(y_train, y_pred)\n",
        "    class_report[name] = metrics.classification_report(y_train, y_pred)\n",
        "\n",
        "    results.append([name, accuracy, precision, recall, f1, f1_test, run_time.best])\n",
        "\n",
        "\n",
        "results = pd.DataFrame(results, columns=['Classifier', 'Accuracy', 'Precision', 'Recall', 'F1 Train', 'F1 Test', 'Train Time'])\n",
        "results.set_index('Classifier', inplace= True)\n",
        "\n",
        "print ('... All done!')"
      ],
      "metadata": {
        "colab": {
          "base_uri": "https://localhost:8080/"
        },
        "id": "7z-wCPDGCPQL",
        "outputId": "521755a7-2906-492e-9206-0e032550a156"
      },
      "execution_count": null,
      "outputs": [
        {
          "output_type": "stream",
          "name": "stdout",
          "text": [
            "Fitting Logistic Regression model...\n",
            "... predicting\n",
            "... scoring\n",
            "Fitting Nearest Neighbors model...\n",
            "... predicting\n",
            "... scoring\n",
            "Fitting Linear SVM model...\n",
            "... predicting\n",
            "... scoring\n",
            "Fitting RBF SVM model...\n",
            "... predicting\n",
            "... scoring\n",
            "Fitting Decision Tree model...\n",
            "... predicting\n",
            "... scoring\n",
            "Fitting Random Forest model...\n",
            "... predicting\n",
            "... scoring\n",
            "Fitting AdaBoost model...\n",
            "... predicting\n",
            "... scoring\n",
            "Fitting Naive Bayes model...\n",
            "... predicting\n",
            "... scoring\n",
            "... All done!\n"
          ]
        }
      ]
    },
    {
      "cell_type": "code",
      "source": [
        "results"
      ],
      "metadata": {
        "colab": {
          "base_uri": "https://localhost:8080/",
          "height": 708
        },
        "id": "Ytm9CS8FFKWM",
        "outputId": "411679a3-de5a-4dde-cfd3-0bf17ca8563e"
      },
      "execution_count": null,
      "outputs": [
        {
          "output_type": "execute_result",
          "data": {
            "text/plain": [
              "                     Accuracy  \\\n",
              "Classifier                      \n",
              "Logistic Regression  0.920114   \n",
              "Nearest Neighbors    0.907955   \n",
              "Linear SVM           0.900076   \n",
              "RBF SVM              0.945038   \n",
              "Decision Tree        0.532424   \n",
              "Random Forest        0.606212   \n",
              "AdaBoost             0.456136   \n",
              "Naive Bayes          0.909508   \n",
              "\n",
              "                                                             Precision  \\\n",
              "Classifier                                                               \n",
              "Logistic Regression  [0.9995803608896349, 0.7727994915792818, 0.814...   \n",
              "Nearest Neighbors    [0.9966555183946488, 0.775647171620326, 0.7489...   \n",
              "Linear SVM           [0.9987410826689047, 0.645186953062848, 0.7686...   \n",
              "RBF SVM              [1.0, 0.7790585975024016, 0.8927444794952681, ...   \n",
              "Decision Tree        [0.9973368841544608, 0.19117993868406571, 1.0,...   \n",
              "Random Forest        [0.9192680301399354, 0.25205627705627703, 0.45...   \n",
              "AdaBoost             [0.996031746031746, 0.21836808051761322, 0.318...   \n",
              "Naive Bayes          [0.9908675799086758, 0.7782467532467533, 0.767...   \n",
              "\n",
              "                                                                Recall  \\\n",
              "Classifier                                                               \n",
              "Logistic Regression  [0.9966527196652719, 0.9975389663658737, 0.746...   \n",
              "Nearest Neighbors    [0.9974895397489539, 0.9954881050041017, 0.810...   \n",
              "Linear SVM           [0.99581589958159, 0.9979491386382281, 0.72918...   \n",
              "RBF SVM              [0.997907949790795, 0.9979491386382281, 0.8330...   \n",
              "Decision Tree        [0.9401673640167364, 0.9975389663658737, 0.000...   \n",
              "Random Forest        [0.7146443514644352, 0.9552912223133716, 0.058...   \n",
              "AdaBoost             [0.9451882845188284, 0.9967186218211649, 0.067...   \n",
              "Naive Bayes          [0.998744769874477, 0.98318293683347, 0.737594...   \n",
              "\n",
              "                                                              F1 Train  \\\n",
              "Classifier                                                               \n",
              "Logistic Regression  [0.9981143934632306, 0.8709042076991943, 0.779...   \n",
              "Nearest Neighbors    [0.9970723546633208, 0.8719238368959943, 0.778...   \n",
              "Linear SVM           [0.9972763461135554, 0.7837010790787565, 0.748...   \n",
              "RBF SVM              [0.9989528795811519, 0.8750224779715879, 0.861...   \n",
              "Decision Tree        [0.9679086797329314, 0.3208654924467313, 0.000...   \n",
              "Random Forest        [0.8041431261770245, 0.39886966946394925, 0.10...   \n",
              "AdaBoost             [0.9699441820523831, 0.3582485625829279, 0.111...   \n",
              "Naive Bayes          [0.994790581371119, 0.8687930409568684, 0.7524...   \n",
              "\n",
              "                                                               F1 Test  \\\n",
              "Classifier                                                               \n",
              "Logistic Regression  [0.9950657894736842, 0.8491281273692192, 0.768...   \n",
              "Nearest Neighbors    [0.9967159277504104, 0.8488990129081245, 0.707...   \n",
              "Linear SVM           [0.9958847736625513, 0.7646258503401361, 0.742...   \n",
              "RBF SVM              [0.3472409152086137, 0.8488104374520338, 0.669...   \n",
              "Decision Tree        [0.9644670050761421, 0.2980079681274901, 0.0, ...   \n",
              "Random Forest        [0.7821969696969696, 0.36775300171526587, 0.09...   \n",
              "AdaBoost             [0.9629005059021921, 0.3294951284322409, 0.088...   \n",
              "Naive Bayes          [0.9959116925592805, 0.84656900539707, 0.75450...   \n",
              "\n",
              "                     Train Time  \n",
              "Classifier                       \n",
              "Logistic Regression    5.231774  \n",
              "Nearest Neighbors      0.028385  \n",
              "Linear SVM             4.379911  \n",
              "RBF SVM              119.582420  \n",
              "Decision Tree          0.057925  \n",
              "Random Forest          0.082298  \n",
              "AdaBoost               3.849632  \n",
              "Naive Bayes            0.095121  "
            ],
            "text/html": [
              "\n",
              "  <div id=\"df-29227c3b-53f0-4951-8f94-a228d0362f83\">\n",
              "    <div class=\"colab-df-container\">\n",
              "      <div>\n",
              "<style scoped>\n",
              "    .dataframe tbody tr th:only-of-type {\n",
              "        vertical-align: middle;\n",
              "    }\n",
              "\n",
              "    .dataframe tbody tr th {\n",
              "        vertical-align: top;\n",
              "    }\n",
              "\n",
              "    .dataframe thead th {\n",
              "        text-align: right;\n",
              "    }\n",
              "</style>\n",
              "<table border=\"1\" class=\"dataframe\">\n",
              "  <thead>\n",
              "    <tr style=\"text-align: right;\">\n",
              "      <th></th>\n",
              "      <th>Accuracy</th>\n",
              "      <th>Precision</th>\n",
              "      <th>Recall</th>\n",
              "      <th>F1 Train</th>\n",
              "      <th>F1 Test</th>\n",
              "      <th>Train Time</th>\n",
              "    </tr>\n",
              "    <tr>\n",
              "      <th>Classifier</th>\n",
              "      <th></th>\n",
              "      <th></th>\n",
              "      <th></th>\n",
              "      <th></th>\n",
              "      <th></th>\n",
              "      <th></th>\n",
              "    </tr>\n",
              "  </thead>\n",
              "  <tbody>\n",
              "    <tr>\n",
              "      <th>Logistic Regression</th>\n",
              "      <td>0.920114</td>\n",
              "      <td>[0.9995803608896349, 0.7727994915792818, 0.814...</td>\n",
              "      <td>[0.9966527196652719, 0.9975389663658737, 0.746...</td>\n",
              "      <td>[0.9981143934632306, 0.8709042076991943, 0.779...</td>\n",
              "      <td>[0.9950657894736842, 0.8491281273692192, 0.768...</td>\n",
              "      <td>5.231774</td>\n",
              "    </tr>\n",
              "    <tr>\n",
              "      <th>Nearest Neighbors</th>\n",
              "      <td>0.907955</td>\n",
              "      <td>[0.9966555183946488, 0.775647171620326, 0.7489...</td>\n",
              "      <td>[0.9974895397489539, 0.9954881050041017, 0.810...</td>\n",
              "      <td>[0.9970723546633208, 0.8719238368959943, 0.778...</td>\n",
              "      <td>[0.9967159277504104, 0.8488990129081245, 0.707...</td>\n",
              "      <td>0.028385</td>\n",
              "    </tr>\n",
              "    <tr>\n",
              "      <th>Linear SVM</th>\n",
              "      <td>0.900076</td>\n",
              "      <td>[0.9987410826689047, 0.645186953062848, 0.7686...</td>\n",
              "      <td>[0.99581589958159, 0.9979491386382281, 0.72918...</td>\n",
              "      <td>[0.9972763461135554, 0.7837010790787565, 0.748...</td>\n",
              "      <td>[0.9958847736625513, 0.7646258503401361, 0.742...</td>\n",
              "      <td>4.379911</td>\n",
              "    </tr>\n",
              "    <tr>\n",
              "      <th>RBF SVM</th>\n",
              "      <td>0.945038</td>\n",
              "      <td>[1.0, 0.7790585975024016, 0.8927444794952681, ...</td>\n",
              "      <td>[0.997907949790795, 0.9979491386382281, 0.8330...</td>\n",
              "      <td>[0.9989528795811519, 0.8750224779715879, 0.861...</td>\n",
              "      <td>[0.3472409152086137, 0.8488104374520338, 0.669...</td>\n",
              "      <td>119.582420</td>\n",
              "    </tr>\n",
              "    <tr>\n",
              "      <th>Decision Tree</th>\n",
              "      <td>0.532424</td>\n",
              "      <td>[0.9973368841544608, 0.19117993868406571, 1.0,...</td>\n",
              "      <td>[0.9401673640167364, 0.9975389663658737, 0.000...</td>\n",
              "      <td>[0.9679086797329314, 0.3208654924467313, 0.000...</td>\n",
              "      <td>[0.9644670050761421, 0.2980079681274901, 0.0, ...</td>\n",
              "      <td>0.057925</td>\n",
              "    </tr>\n",
              "    <tr>\n",
              "      <th>Random Forest</th>\n",
              "      <td>0.606212</td>\n",
              "      <td>[0.9192680301399354, 0.25205627705627703, 0.45...</td>\n",
              "      <td>[0.7146443514644352, 0.9552912223133716, 0.058...</td>\n",
              "      <td>[0.8041431261770245, 0.39886966946394925, 0.10...</td>\n",
              "      <td>[0.7821969696969696, 0.36775300171526587, 0.09...</td>\n",
              "      <td>0.082298</td>\n",
              "    </tr>\n",
              "    <tr>\n",
              "      <th>AdaBoost</th>\n",
              "      <td>0.456136</td>\n",
              "      <td>[0.996031746031746, 0.21836808051761322, 0.318...</td>\n",
              "      <td>[0.9451882845188284, 0.9967186218211649, 0.067...</td>\n",
              "      <td>[0.9699441820523831, 0.3582485625829279, 0.111...</td>\n",
              "      <td>[0.9629005059021921, 0.3294951284322409, 0.088...</td>\n",
              "      <td>3.849632</td>\n",
              "    </tr>\n",
              "    <tr>\n",
              "      <th>Naive Bayes</th>\n",
              "      <td>0.909508</td>\n",
              "      <td>[0.9908675799086758, 0.7782467532467533, 0.767...</td>\n",
              "      <td>[0.998744769874477, 0.98318293683347, 0.737594...</td>\n",
              "      <td>[0.994790581371119, 0.8687930409568684, 0.7524...</td>\n",
              "      <td>[0.9959116925592805, 0.84656900539707, 0.75450...</td>\n",
              "      <td>0.095121</td>\n",
              "    </tr>\n",
              "  </tbody>\n",
              "</table>\n",
              "</div>\n",
              "      <button class=\"colab-df-convert\" onclick=\"convertToInteractive('df-29227c3b-53f0-4951-8f94-a228d0362f83')\"\n",
              "              title=\"Convert this dataframe to an interactive table.\"\n",
              "              style=\"display:none;\">\n",
              "        \n",
              "  <svg xmlns=\"http://www.w3.org/2000/svg\" height=\"24px\"viewBox=\"0 0 24 24\"\n",
              "       width=\"24px\">\n",
              "    <path d=\"M0 0h24v24H0V0z\" fill=\"none\"/>\n",
              "    <path d=\"M18.56 5.44l.94 2.06.94-2.06 2.06-.94-2.06-.94-.94-2.06-.94 2.06-2.06.94zm-11 1L8.5 8.5l.94-2.06 2.06-.94-2.06-.94L8.5 2.5l-.94 2.06-2.06.94zm10 10l.94 2.06.94-2.06 2.06-.94-2.06-.94-.94-2.06-.94 2.06-2.06.94z\"/><path d=\"M17.41 7.96l-1.37-1.37c-.4-.4-.92-.59-1.43-.59-.52 0-1.04.2-1.43.59L10.3 9.45l-7.72 7.72c-.78.78-.78 2.05 0 2.83L4 21.41c.39.39.9.59 1.41.59.51 0 1.02-.2 1.41-.59l7.78-7.78 2.81-2.81c.8-.78.8-2.07 0-2.86zM5.41 20L4 18.59l7.72-7.72 1.47 1.35L5.41 20z\"/>\n",
              "  </svg>\n",
              "      </button>\n",
              "      \n",
              "  <style>\n",
              "    .colab-df-container {\n",
              "      display:flex;\n",
              "      flex-wrap:wrap;\n",
              "      gap: 12px;\n",
              "    }\n",
              "\n",
              "    .colab-df-convert {\n",
              "      background-color: #E8F0FE;\n",
              "      border: none;\n",
              "      border-radius: 50%;\n",
              "      cursor: pointer;\n",
              "      display: none;\n",
              "      fill: #1967D2;\n",
              "      height: 32px;\n",
              "      padding: 0 0 0 0;\n",
              "      width: 32px;\n",
              "    }\n",
              "\n",
              "    .colab-df-convert:hover {\n",
              "      background-color: #E2EBFA;\n",
              "      box-shadow: 0px 1px 2px rgba(60, 64, 67, 0.3), 0px 1px 3px 1px rgba(60, 64, 67, 0.15);\n",
              "      fill: #174EA6;\n",
              "    }\n",
              "\n",
              "    [theme=dark] .colab-df-convert {\n",
              "      background-color: #3B4455;\n",
              "      fill: #D2E3FC;\n",
              "    }\n",
              "\n",
              "    [theme=dark] .colab-df-convert:hover {\n",
              "      background-color: #434B5C;\n",
              "      box-shadow: 0px 1px 3px 1px rgba(0, 0, 0, 0.15);\n",
              "      filter: drop-shadow(0px 1px 2px rgba(0, 0, 0, 0.3));\n",
              "      fill: #FFFFFF;\n",
              "    }\n",
              "  </style>\n",
              "\n",
              "      <script>\n",
              "        const buttonEl =\n",
              "          document.querySelector('#df-29227c3b-53f0-4951-8f94-a228d0362f83 button.colab-df-convert');\n",
              "        buttonEl.style.display =\n",
              "          google.colab.kernel.accessAllowed ? 'block' : 'none';\n",
              "\n",
              "        async function convertToInteractive(key) {\n",
              "          const element = document.querySelector('#df-29227c3b-53f0-4951-8f94-a228d0362f83');\n",
              "          const dataTable =\n",
              "            await google.colab.kernel.invokeFunction('convertToInteractive',\n",
              "                                                     [key], {});\n",
              "          if (!dataTable) return;\n",
              "\n",
              "          const docLinkHtml = 'Like what you see? Visit the ' +\n",
              "            '<a target=\"_blank\" href=https://colab.research.google.com/notebooks/data_table.ipynb>data table notebook</a>'\n",
              "            + ' to learn more about interactive tables.';\n",
              "          element.innerHTML = '';\n",
              "          dataTable['output_type'] = 'display_data';\n",
              "          await google.colab.output.renderOutput(dataTable, element);\n",
              "          const docLink = document.createElement('div');\n",
              "          docLink.innerHTML = docLinkHtml;\n",
              "          element.appendChild(docLink);\n",
              "        }\n",
              "      </script>\n",
              "    </div>\n",
              "  </div>\n",
              "  "
            ]
          },
          "metadata": {},
          "execution_count": 46
        }
      ]
    },
    {
      "cell_type": "markdown",
      "source": [
        "From the above models, The RBF SVM model performed best in the training set when compared to other models, but it didn't perform as much in the Kaggle Competition.\n",
        "\n",
        "Other models such as Logistic Regression, Nearest Neighbors also performed well but had low Accuracy/F1 Score when tested in the Kaggle Evaluator\n",
        "\n",
        "Of all perfoming models, the Naive Bayes (MultinomialNB) had the highest score on Kaggle.\n",
        "Thus, we will be using the Naive Bayes model for this competition, since it performs well on the validation set\n"
      ],
      "metadata": {
        "id": "0ERD9BVOGvaA"
      }
    },
    {
      "cell_type": "markdown",
      "source": [
        "## **Loading The Test Data**"
      ],
      "metadata": {
        "id": "jQ-gi1fHc_qG"
      }
    },
    {
      "cell_type": "code",
      "source": [
        "test_data.head()"
      ],
      "metadata": {
        "colab": {
          "base_uri": "https://localhost:8080/",
          "height": 267
        },
        "id": "5ho25Ldzcxsl",
        "outputId": "b61a43c6-a5d5-44e0-c107-aed192087d42"
      },
      "execution_count": null,
      "outputs": [
        {
          "output_type": "execute_result",
          "data": {
            "text/plain": [
              "   index                                               text  \\\n",
              "0      1  Mmasepala, fa maemo a a kgethegileng a letlele...   \n",
              "1      2  Uzakwaziswa ngokufaneleko nakungafuneka eminye...   \n",
              "2      3         Tshivhumbeo tshi fana na ngano dza vhathu.   \n",
              "3      4  Kube inja nelikati betingevakala kutsi titsini...   \n",
              "4      5                      Winste op buitelandse valuta.   \n",
              "\n",
              "                                       cleaned_texts  \n",
              "0  mmasepala fa maemo kgethegileng letlelela kgat...  \n",
              "1  uzakwaziswa ngokufaneleko nakungafuneka eminye...  \n",
              "2          tshivhumbeo tshi fana na ngano dza vhathu  \n",
              "3  kube inja nelikati betingevakala kutsi titsini...  \n",
              "4                       winste op buitelandse valuta  "
            ],
            "text/html": [
              "\n",
              "  <div id=\"df-3ab25142-ad4c-42e2-9cd9-e6b43b678df7\">\n",
              "    <div class=\"colab-df-container\">\n",
              "      <div>\n",
              "<style scoped>\n",
              "    .dataframe tbody tr th:only-of-type {\n",
              "        vertical-align: middle;\n",
              "    }\n",
              "\n",
              "    .dataframe tbody tr th {\n",
              "        vertical-align: top;\n",
              "    }\n",
              "\n",
              "    .dataframe thead th {\n",
              "        text-align: right;\n",
              "    }\n",
              "</style>\n",
              "<table border=\"1\" class=\"dataframe\">\n",
              "  <thead>\n",
              "    <tr style=\"text-align: right;\">\n",
              "      <th></th>\n",
              "      <th>index</th>\n",
              "      <th>text</th>\n",
              "      <th>cleaned_texts</th>\n",
              "    </tr>\n",
              "  </thead>\n",
              "  <tbody>\n",
              "    <tr>\n",
              "      <th>0</th>\n",
              "      <td>1</td>\n",
              "      <td>Mmasepala, fa maemo a a kgethegileng a letlele...</td>\n",
              "      <td>mmasepala fa maemo kgethegileng letlelela kgat...</td>\n",
              "    </tr>\n",
              "    <tr>\n",
              "      <th>1</th>\n",
              "      <td>2</td>\n",
              "      <td>Uzakwaziswa ngokufaneleko nakungafuneka eminye...</td>\n",
              "      <td>uzakwaziswa ngokufaneleko nakungafuneka eminye...</td>\n",
              "    </tr>\n",
              "    <tr>\n",
              "      <th>2</th>\n",
              "      <td>3</td>\n",
              "      <td>Tshivhumbeo tshi fana na ngano dza vhathu.</td>\n",
              "      <td>tshivhumbeo tshi fana na ngano dza vhathu</td>\n",
              "    </tr>\n",
              "    <tr>\n",
              "      <th>3</th>\n",
              "      <td>4</td>\n",
              "      <td>Kube inja nelikati betingevakala kutsi titsini...</td>\n",
              "      <td>kube inja nelikati betingevakala kutsi titsini...</td>\n",
              "    </tr>\n",
              "    <tr>\n",
              "      <th>4</th>\n",
              "      <td>5</td>\n",
              "      <td>Winste op buitelandse valuta.</td>\n",
              "      <td>winste op buitelandse valuta</td>\n",
              "    </tr>\n",
              "  </tbody>\n",
              "</table>\n",
              "</div>\n",
              "      <button class=\"colab-df-convert\" onclick=\"convertToInteractive('df-3ab25142-ad4c-42e2-9cd9-e6b43b678df7')\"\n",
              "              title=\"Convert this dataframe to an interactive table.\"\n",
              "              style=\"display:none;\">\n",
              "        \n",
              "  <svg xmlns=\"http://www.w3.org/2000/svg\" height=\"24px\"viewBox=\"0 0 24 24\"\n",
              "       width=\"24px\">\n",
              "    <path d=\"M0 0h24v24H0V0z\" fill=\"none\"/>\n",
              "    <path d=\"M18.56 5.44l.94 2.06.94-2.06 2.06-.94-2.06-.94-.94-2.06-.94 2.06-2.06.94zm-11 1L8.5 8.5l.94-2.06 2.06-.94-2.06-.94L8.5 2.5l-.94 2.06-2.06.94zm10 10l.94 2.06.94-2.06 2.06-.94-2.06-.94-.94-2.06-.94 2.06-2.06.94z\"/><path d=\"M17.41 7.96l-1.37-1.37c-.4-.4-.92-.59-1.43-.59-.52 0-1.04.2-1.43.59L10.3 9.45l-7.72 7.72c-.78.78-.78 2.05 0 2.83L4 21.41c.39.39.9.59 1.41.59.51 0 1.02-.2 1.41-.59l7.78-7.78 2.81-2.81c.8-.78.8-2.07 0-2.86zM5.41 20L4 18.59l7.72-7.72 1.47 1.35L5.41 20z\"/>\n",
              "  </svg>\n",
              "      </button>\n",
              "      \n",
              "  <style>\n",
              "    .colab-df-container {\n",
              "      display:flex;\n",
              "      flex-wrap:wrap;\n",
              "      gap: 12px;\n",
              "    }\n",
              "\n",
              "    .colab-df-convert {\n",
              "      background-color: #E8F0FE;\n",
              "      border: none;\n",
              "      border-radius: 50%;\n",
              "      cursor: pointer;\n",
              "      display: none;\n",
              "      fill: #1967D2;\n",
              "      height: 32px;\n",
              "      padding: 0 0 0 0;\n",
              "      width: 32px;\n",
              "    }\n",
              "\n",
              "    .colab-df-convert:hover {\n",
              "      background-color: #E2EBFA;\n",
              "      box-shadow: 0px 1px 2px rgba(60, 64, 67, 0.3), 0px 1px 3px 1px rgba(60, 64, 67, 0.15);\n",
              "      fill: #174EA6;\n",
              "    }\n",
              "\n",
              "    [theme=dark] .colab-df-convert {\n",
              "      background-color: #3B4455;\n",
              "      fill: #D2E3FC;\n",
              "    }\n",
              "\n",
              "    [theme=dark] .colab-df-convert:hover {\n",
              "      background-color: #434B5C;\n",
              "      box-shadow: 0px 1px 3px 1px rgba(0, 0, 0, 0.15);\n",
              "      filter: drop-shadow(0px 1px 2px rgba(0, 0, 0, 0.3));\n",
              "      fill: #FFFFFF;\n",
              "    }\n",
              "  </style>\n",
              "\n",
              "      <script>\n",
              "        const buttonEl =\n",
              "          document.querySelector('#df-3ab25142-ad4c-42e2-9cd9-e6b43b678df7 button.colab-df-convert');\n",
              "        buttonEl.style.display =\n",
              "          google.colab.kernel.accessAllowed ? 'block' : 'none';\n",
              "\n",
              "        async function convertToInteractive(key) {\n",
              "          const element = document.querySelector('#df-3ab25142-ad4c-42e2-9cd9-e6b43b678df7');\n",
              "          const dataTable =\n",
              "            await google.colab.kernel.invokeFunction('convertToInteractive',\n",
              "                                                     [key], {});\n",
              "          if (!dataTable) return;\n",
              "\n",
              "          const docLinkHtml = 'Like what you see? Visit the ' +\n",
              "            '<a target=\"_blank\" href=https://colab.research.google.com/notebooks/data_table.ipynb>data table notebook</a>'\n",
              "            + ' to learn more about interactive tables.';\n",
              "          element.innerHTML = '';\n",
              "          dataTable['output_type'] = 'display_data';\n",
              "          await google.colab.output.renderOutput(dataTable, element);\n",
              "          const docLink = document.createElement('div');\n",
              "          docLink.innerHTML = docLinkHtml;\n",
              "          element.appendChild(docLink);\n",
              "        }\n",
              "      </script>\n",
              "    </div>\n",
              "  </div>\n",
              "  "
            ]
          },
          "metadata": {},
          "execution_count": 47
        }
      ]
    },
    {
      "cell_type": "markdown",
      "source": [
        "Our task is to provide the possible Language ID as a column that matches every word or mention in the text column.\n",
        "This would be our Response Variable (Y)"
      ],
      "metadata": {
        "id": "yWpKaEetdTWK"
      }
    },
    {
      "cell_type": "code",
      "source": [
        "print(\"-\" *20, \"Testing the model of Test dataset\", \"-\" * 20)\n",
        "test_data.head()\n",
        "print(\"\\nShape of test data = \", test_data.shape)\n",
        "test_data['cleaned_texts'] = test_data['text'].apply(dataclean) #applyinng the \"dataclean\" function used in the training data during celaning\n",
        "\n",
        "print(\"-\" * 50)\n",
        "print(\"\\nBuilding Features for the test data set.\")\n",
        "test_list = []\n",
        "for text in test_data['cleaned_texts']:\n",
        "  test_list.append(preprocess(text))\n",
        "print(\"After preprocessing test texts looks like : \\n\", test_list[:5], \"\\n\")\n",
        "print(\"-\" * 50)\n",
        "\n",
        "test_vectors = vectorizer.transform(test_list)\n",
        "print(\"Shape of testing features : \",test_vectors.shape)\n",
        "print(\"-\" * 50)\n",
        "\n",
        "print(\"\\nLet us test the performance of our model on the testing set to predict the language labels.\")\n",
        "from sklearn.metrics import classification_report, confusion_matrix, accuracy_score\n",
        "\n",
        "\n",
        "print(\"Results : \\n\")\n",
        "results = pd.DataFrame({'index' : test_data['index'].astype(str)}, \n",
        "                       columns = ['index', 'lang_id'])\n",
        "print(results)\n",
        "results.to_csv(\"Precious_model.csv\", sep= \",\", index = False)\n",
        "print(\"-\" * 50)\n",
        "\n",
        "print(\"Analysis on the test dataset.. \\n\")\n",
        "d = results['lang_id'].value_counts(normalize = True) * 100"
      ],
      "metadata": {
        "colab": {
          "base_uri": "https://localhost:8080/"
        },
        "id": "wZlVuZqkdVW0",
        "outputId": "4d92ead2-d957-47bb-fe42-8d76d291f27f"
      },
      "execution_count": null,
      "outputs": [
        {
          "output_type": "stream",
          "name": "stdout",
          "text": [
            "-------------------- Testing the model of Test dataset --------------------\n",
            "\n",
            "Shape of test data =  (5682, 3)\n",
            "--------------------------------------------------\n",
            "\n",
            "Building Features for the test data set.\n",
            "After preprocessing test texts looks like : \n",
            " ['mmasepala fa maemo kgethegileng letlelela kgato eo', 'uzakwaziswa ngokufaneleko nakungafuneka eminye imitlolo engezelelako ukuqedelela ukutloliswa kwesibawo sakho', 'tshivhumbeo tshi fana na ngano dza vhathu', 'kube inja nelikati betingevakala kutsi titsini naticocisana', 'winste op buitelandse valuta'] \n",
            "\n",
            "--------------------------------------------------\n",
            "Shape of testing features :  (5682, 114524)\n",
            "--------------------------------------------------\n",
            "\n",
            "Let us test the performance of our model on the testing set to predict the language labels.\n",
            "Results : \n",
            "\n",
            "     index lang_id\n",
            "0        1     NaN\n",
            "1        2     NaN\n",
            "2        3     NaN\n",
            "3        4     NaN\n",
            "4        5     NaN\n",
            "...    ...     ...\n",
            "5677  5678     NaN\n",
            "5678  5679     NaN\n",
            "5679  5680     NaN\n",
            "5680  5681     NaN\n",
            "5681  5682     NaN\n",
            "\n",
            "[5682 rows x 2 columns]\n",
            "--------------------------------------------------\n",
            "Analysis on the test dataset.. \n",
            "\n"
          ]
        }
      ]
    }
  ]
}